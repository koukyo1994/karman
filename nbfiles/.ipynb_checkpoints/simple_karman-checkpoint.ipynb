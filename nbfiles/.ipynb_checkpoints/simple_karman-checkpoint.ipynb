{
 "cells": [
  {
   "cell_type": "code",
   "execution_count": null,
   "metadata": {},
   "outputs": [],
   "source": [
    "using Plots"
   ]
  },
  {
   "cell_type": "code",
   "execution_count": 19,
   "metadata": {},
   "outputs": [
    {
     "data": {
      "text/plain": [
       "70"
      ]
     },
     "execution_count": 19,
     "metadata": {},
     "output_type": "execute_result"
    }
   ],
   "source": [
    "MX = 201\n",
    "I1 = 95\n",
    "I2 = 105\n",
    "MY = 401\n",
    "J1 = 95\n",
    "J2 = 105\n",
    "MAXITP = 10000\n",
    "OMEGAP = 1.0 \n",
    "ERRORP = 1e-4\n",
    "Re = 70"
   ]
  },
  {
   "cell_type": "code",
   "execution_count": null,
   "metadata": {},
   "outputs": [
    {
     "data": {
      "text/plain": [
       "BoundaryConditionforP (generic function with 1 method)"
      ]
     },
     "execution_count": 3,
     "metadata": {},
     "output_type": "execute_result"
    }
   ],
   "source": [
    "function BoundaryConditionforP(p::Array{Float64, 2})\n",
    "    for i in 1:MY\n",
    "        p[1, i] = 0.0\n",
    "        p[MX, i] = 0.0\n",
    "    end\n",
    "    \n",
    "    for i in 1:MX\n",
    "        p[i, 1] = 0.0\n",
    "        p[i, MY] = 0.0\n",
    "    end\n",
    "    \n",
    "    p[I1, J1] = p[I1-1, J1-1]\n",
    "    p[I1, J2] = p[I1-1, J2+1]\n",
    "    p[I2, J1] = p[I2+1, J1-1]\n",
    "    p[I2, J2] = p[I2+1, J2+1]\n",
    "    \n",
    "    for j in J1+1:J2-1\n",
    "        p[I1, j] = p[I1-1, j]\n",
    "        p[I2, j] = p[I2+1, j]\n",
    "    end\n",
    "    \n",
    "    for i in I1+1:I2-1\n",
    "        p[i, J1] = p[i, J1-1]\n",
    "        p[i, J2] = p[i, J2+1]\n",
    "    end\n",
    "end"
   ]
  },
  {
   "cell_type": "code",
   "execution_count": 4,
   "metadata": {},
   "outputs": [
    {
     "data": {
      "text/plain": [
       "BoundaryConditionforV (generic function with 1 method)"
      ]
     },
     "execution_count": 4,
     "metadata": {},
     "output_type": "execute_result"
    }
   ],
   "source": [
    "function BoundaryConditionforV(u::Array{Float64, 2}, v::Array{Float64, 2})\n",
    "    for j in 1:MY\n",
    "        u[1, j] = 1.0\n",
    "        v[1, j] = 0.0\n",
    "        u[MX, j] = 2.0 * u[MX-1, j] - u[MX-2, j]\n",
    "        v[MX, j] = 2.0 * v[MX-1, j] - v[MX-2, j]\n",
    "    end\n",
    "    \n",
    "    for i in 1:MX\n",
    "        u[i, 1] = 2.0 * u[i, 2] - u[i, 3]\n",
    "        v[i, 1] = 2.0 * v[i, 2] - v[i, 3]\n",
    "        u[i, MY] = 2.0 * u[i, MY-1] - u[i, MY-2]\n",
    "        v[i, MY] = 2.0 * v[i, MY-1] - v[i, MY-2]\n",
    "    end\n",
    "    \n",
    "    for i in I1:I2\n",
    "        for j in J1:J2\n",
    "            u[i, j] = 0.0\n",
    "            v[i, j] = 0.0\n",
    "        end\n",
    "    end\n",
    "end"
   ]
  },
  {
   "cell_type": "code",
   "execution_count": null,
   "metadata": {},
   "outputs": [
    {
     "data": {
      "text/plain": [
       "PoissonEquation (generic function with 1 method)"
      ]
     },
     "execution_count": 5,
     "metadata": {},
     "output_type": "execute_result"
    }
   ],
   "source": [
    "function PoissonEquation(u::Array{Float64, 2}, v::Array{Float64, 2}, p::Array{Float64, 2},\n",
    "                         dx::Float64, dy::Float64, dt::Float64)\n",
    "    rhs = zeros(MX, MY)\n",
    "    \n",
    "    for i in 2:MX-1\n",
    "        for j in 2:MY-1\n",
    "            if (I1 < i < I2) && (J1 < j < J2) \n",
    "            else\n",
    "                ux = (u[i+1, j] - u[i-1, j]) / (2.0*dx)\n",
    "                uy = (u[i, j+1] - u[i, j-1]) / (2.0*dy)\n",
    "                vx = (v[i+1, j] - v[i-1, j]) / (2.0*dx)\n",
    "                vy = (v[i, j+1] - v[i, j-1]) / (2.0*dy)\n",
    "                rhs[i, j] = (ux + vy) / dt - (ux^2 + 2.0 * uy * vx + vy^2)\n",
    "            end\n",
    "        end\n",
    "    end\n",
    "    \n",
    "    @inbounds for iteration in 1:MAXITP\n",
    "        res = 0.0\n",
    "        for i in 2:MX-1\n",
    "            for j in 2:MY-1\n",
    "                if (I1 <= i <= I2) && (J1 <= j <= J2)\n",
    "                else\n",
    "                    dp = (p[i+1, j] + p[i-1, j]) / dx^2 + (p[i, j+1] + p[i, j-1]) / dy^2 -rhs[i, j]\n",
    "                    dp = dp / (2.0/dx^2 + 2.0/dy^2) - p[i, j]\n",
    "                    res += dp^2\n",
    "                    p[i, j] += OMEGAP * dp\n",
    "                end\n",
    "            end\n",
    "        end\n",
    "        BoundaryConditionforP(p)\n",
    "        res = sqrt(res / (MX * MY))\n",
    "        if res < ERRORP\n",
    "            resp = res\n",
    "            itrp = iteration\n",
    "            break\n",
    "        end\n",
    "    end\n",
    "end"
   ]
  },
  {
   "cell_type": "code",
   "execution_count": 11,
   "metadata": {},
   "outputs": [
    {
     "data": {
      "text/plain": [
       "VelocityEquation (generic function with 1 method)"
      ]
     },
     "execution_count": 11,
     "metadata": {},
     "output_type": "execute_result"
    }
   ],
   "source": [
    "function VelocityEquation(u::Array{Float64, 2}, v::Array{Float64, 2}, p::Array{Float64, 2},\n",
    "                          dx::Float64, dy::Float64, dt::Float64)\n",
    "    urhs = zeros(MX, MY)\n",
    "    vrhs = zeros(MX, MY)\n",
    "    for i in 2:MX-1\n",
    "        for j in 2:MY-1\n",
    "            if (I1 < i < I2) && (J1 < j < J2)\n",
    "            elseif (i == I1 || i== I2) && (J1 < j < J2)\n",
    "                urhs[i, j] = 0.0\n",
    "                vrhs[i, j] = -(p[i, j+1] - p[i, j-1]) / (2.0*dy)\n",
    "            elseif (I1 < i < I2) && (j == J1 || j == J2)\n",
    "                urhs[i, j] = -(p[i+1, j] - p[i-1, j]) / (2.0*dx)\n",
    "                vrhs[i, j] = 0.0\n",
    "            elseif (i == I1 || i == I2) && (j == J1 || j == J2)\n",
    "                urhs[i, j] = 0.0\n",
    "                vrhs[i, j] = 0.0\n",
    "            else\n",
    "                urhs[i, j] = -(p[i+1, j] - p[i-1, j]) / (2.0*dx)\n",
    "                vrhs[i, j] = -(p[i, j+1] - p[i, j-1]) / (2.0*dy)\n",
    "            end\n",
    "        end\n",
    "    end\n",
    "    \n",
    "    for i in 2:MX-1\n",
    "        for j in 2:MY-1\n",
    "            if (I1 < i <I2) && (J1 < j < J2)\n",
    "            else\n",
    "                urhs[i, j] += (u[i+1, j] - 2.0*u[i, j] + u[i-1, j]) / (Re*dx^2) + (u[i, j+1] - 2.0*u[i, j] + u[i, j-1]) / (Re*dy^2)\n",
    "                vrhs[i, j] += (v[i+1, j] - 2.0*v[i, j] + v[i-1, j]) / (Re*dx^2) + (v[i, j+1] - 2.0*v[i, j] + v[i, j-1]) / (Re*dy^2)\n",
    "            end\n",
    "        end\n",
    "    end\n",
    "    \n",
    "    for j in J1+1:J2-1\n",
    "        u[I1+1, j] = 2.0*u[I1, j] - u[I1-1, j]\n",
    "        u[I2-1, j] = 2.0*u[I2, j] - u[I2+1, j]\n",
    "        v[I1+1, j] = 2.0*v[I1, j] - v[I1-1, j]\n",
    "        v[I2-1, j] = 2.0*v[I2, j] - v[I2+1, j]\n",
    "    end\n",
    "    \n",
    "    for i in 2:MX-1\n",
    "        for j in 2:MY-1\n",
    "            if (I1 < i < I2) && (J1 < j < J2)\n",
    "            elseif i == 2\n",
    "                urhs[i, j] -= u[i, j] * (-u[i+2, j] + 8.0*(u[i+1, j] - u[i-1, j]) + u[i-1, j]) / (12.0*dx) -\n",
    "                abs(u[i, j]) * (u[i+2, j] - 4.0*u[i+1, j] + 6.0*u[i, j] - 4.0*u[i-1, j] + u[i-1, j]) / (4.0*dx)\n",
    "                vrhs[i, j] -= u[i, j] * (-v[i+2, j] + 8.0*(v[i+1, j] - v[i-1, j]) + v[i-1, j]) / (12.0*dx) -\n",
    "                abs(u[i, j]) * (v[i+2, j] - 4.0*v[i+1, j] + 6.0*v[i, j] - 4.0*v[i-1, j] + v[i-1, j]) / (4.0*dx)\n",
    "            elseif i == MX-1\n",
    "                urhs[i, j] -= u[i, j] * (-2.0 * u[i+1, j] + u[i, j] + 8 * (u[i+1, j] - u[i-1, j]) + u[i-2, j]) / (12.0*dx) + \n",
    "                abs(u[i, j]) * (2.0 * u[i+1, j] - u[i, j] - 4.0 * u[i+1, j] + 6.0 * u[i, j] - 4.0 * u[i-1, j] + u[i-2, j]) / (4.0*dx)\n",
    "                vrhs[i, j] -= u[i, j] * (-2.0 * v[i+1, j] + v[i, j] + 8 * (v[i+1, j] - v[i-1, j]) + v[i-2, j]) / (12.0*dx) + \n",
    "                abs(u[i, j]) * (2.0 * v[i+1, j] - v[i, j] - 4.0 * v[i+1, j] + 6.0 * v[i, j] - 4.0 * v[i-1, j] + v[i-2, j]) / (4.0*dx)\n",
    "            else\n",
    "                urhs[i, j] -= u[i, j] * (-u[i+2, j] + 8.0 * (u[i+1, j] - u[i-1, j]) + u[i-2, j]) / (12.0*dx) + \n",
    "                abs(u[i, j]) * (u[i+2, j] - 4.0 * u[i+1, j] + 6.0 * u[i, j] - 4.0 * u[i-1, j] + u[i-2, j]) / (4.0*dx)\n",
    "                vrhs[i, j] -= u[i, j] * (-v[i+2, j] + 8.0 * (v[i+1, j] - v[i-1, j]) + v[i-2, j]) / (12.0*dx) + \n",
    "                abs(u[i, j]) * (v[i+2, j] - 4.0 * v[i+1, j] + 6.0 * v[i, j] - 4.0 * v[i-1, j] + v[i-2, j]) / (4.0*dx)\n",
    "            end\n",
    "        end\n",
    "    end\n",
    "    \n",
    "    for i in I1+1:I2-1\n",
    "        u[i, J1 + 1] = 2.0 * u[i, J1] - u[i, J1 - 1]\n",
    "        u[i, J2 - 1] = 2.0 * u[i, J2] - u[i, J2 + 1]\n",
    "        v[i, J1 + 1] = 2.0 * v[i, J1] - v[i, J1 - 1]\n",
    "        v[i, J2 - 1] = 2.0 * v[i, J2] - v[i, J2 + 1]\n",
    "    end\n",
    "    \n",
    "    for i in 2:MX-1\n",
    "        for j in 2:MY-1\n",
    "            if (I1 < i < I2) && (J1 < j < J2)\n",
    "            elseif j == 2\n",
    "                urhs[i, j] -= v[i, j] * (-u[i, j+2] + 8.0 * (u[i, j+1] - u[i, j-1]) + 2.0 * u[i, j-1] - u[i, j]) / (12.0*dy) + \n",
    "                abs(v[i, j]) * (u[i, j+2] - 4.0 * u[i, j+1] + 6.0 * u[i, j] - 4.0 * u[i, j-1] + 2.0 * u[i, j-1] - u[i, j]) / (4.0*dy)\n",
    "                vrhs[i, j] -= v[i, j] * (-v[i, j+2] + 8.0 * (v[i, j+1] - v[i, j-1]) + 2.0 * v[i, j-1] - v[i, j]) / (12.0*dy) + \n",
    "                abs(v[i, j]) * (v[i, j+2] - 4.0 * v[i, j+1] + 6.0 * v[i, j] - 4.0 * v[i, j-1] + 2.0 * v[i, j-1] - v[i, j]) / (4.0*dy)\n",
    "            elseif j == MY-1\n",
    "                urhs[i, j] -= v[i, j] * (-2.0 * u[i, j+1] + u[i, j] + 8.0 * (u[i, j+1] - u[i, j-1]) + u[i, j-2]) / (12.0*dy) + \n",
    "                abs(v[i, j]) * (2.0 * u[i, j+1] - u[i, j] - 4.0 * u[i, j+1] + 6.0 * u[i, j] - 4.0 * u[i, j-1] + u[i, j-2]) / (4.0*dy)\n",
    "                vrhs[i, j] -= v[i, j] * (-2.0 * v[i, j+1] + v[i, j] + 8.0 * (v[i, j+1] - v[i, j-1]) + v[i, j-2]) / (12.0*dy) + \n",
    "                abs(v[i, j]) * (2.0 * v[i, j+1] - v[i, j] - 4.0 * v[i, j+1] + 6.0 * v[i, j] - 4.0 * v[i, j-1] + v[i, j-2]) / (4.0*dy)\n",
    "            else\n",
    "                urhs[i, j] -= v[i, j] * (-u[i, j+2] + 8.0 * (u[i, j+1] - u[i, j-1]) + u[i, j-2]) / (12.0*dy) + \n",
    "                abs(v[i, j]) * (u[i, j+2] - 4.0 * u[i, j+1] + 6.0 * u[i, j] - 4.0 * u[i, j-1] + u[i, j-2]) / (4.0*dy)\n",
    "                vrhs[i, j] -= v[i, j] * (-v[i, j+2] + 8.0 * (v[i, j+1] - v[i, j-1]) + v[i, j-2]) / (12.0*dy) + \n",
    "                abs(v[i, j]) * (v[i, j+2] - 4.0 * v[i, j+1] + 6.0 * v[i, j] - 4.0 * v[i, j-1] + v[i, j-2]) / (4.0*dy)\n",
    "            end\n",
    "        end\n",
    "    end\n",
    "    \n",
    "    for i in 2:MX-1\n",
    "        for j in 2:MY-1\n",
    "            if (I1 < i < I2) && (J1 < j <J2)\n",
    "            else\n",
    "                u[i, j] += dt * urhs[i, j]\n",
    "                v[i, j] += dt * vrhs[i, j]\n",
    "            end\n",
    "        end\n",
    "    end\n",
    "end"
   ]
  },
  {
   "cell_type": "code",
   "execution_count": 20,
   "metadata": {},
   "outputs": [
    {
     "data": {
      "text/plain": [
       "main (generic function with 1 method)"
      ]
     },
     "execution_count": 20,
     "metadata": {},
     "output_type": "execute_result"
    }
   ],
   "source": [
    "function main()\n",
    "    CFL = 0.2\n",
    "    nlast = 5000\n",
    "    nlp = 10\n",
    "    \n",
    "    dx = 1.0 / (I2 - I1)\n",
    "    dy = 1.0 / (J2 - J1)\n",
    "    icent = (I2 + I1) / 2\n",
    "    jcent = (J2 + J1) / 2\n",
    "    x = zeros(MX, MY)\n",
    "    y = zeros(MX, MY)\n",
    "    \n",
    "    for i in 1:MX\n",
    "        for j in 1:MY+\"\\n\"\n",
    "            x[i, j] = dx * (i - icent)\n",
    "            y[i, j] = dy * (j - jcent)\n",
    "        end\n",
    "    end\n",
    "    \n",
    "    dt = CFL * min(dx, dy)\n",
    "    nbegin = 0\n",
    "    time = 0.0\n",
    "    u = ones(MX, MY)\n",
    "    v = zeros(MX, MY)\n",
    "    p = zeros(MX, MY)\n",
    "    \n",
    "    BoundaryConditionforP(p)\n",
    "    BoundaryConditionforV(u, v)\n",
    "    \n",
    "    fp = open(\"logp.csv\", \"w\")\n",
    "    fu = open(\"logu.csv\", \"w\")\n",
    "    fv = open(\"logv.csv\", \"w\")\n",
    "    \n",
    "    for j in 1:MY\n",
    "        for i in 1:MX-1\n",
    "            write(fp, p[i, j])\n",
    "            write(fu, u[i, j])\n",
    "            write(fv, v[i, j])\n",
    "            write(fp, \",\")\n",
    "            write(fu, \",\")\n",
    "            write(fv, \",\")\n",
    "        end\n",
    "        \n",
    "        write(fp, p[MX, j])\n",
    "        write(fu, u[MX, j])\n",
    "        write(fv, v[MX, j])\n",
    "        write(fp, \"\\n\")\n",
    "        write(fu, \"\\n\")\n",
    "        write(fv, \"\\n\")\n",
    "    end\n",
    "    \n",
    "    for i in 1:nlast\n",
    "        nstep = i + nbegin\n",
    "        time += dt\n",
    "        PoissonEquation(u, v, p, dx, dy, dt)\n",
    "        BoundaryConditionforP(p)\n",
    "        VelocityEquation(u, v, p, dx, dy, dt)\n",
    "        BoundaryConditionforV(u, v)\n",
    "        if i % 10 == 0\n",
    "            fp = open(\"logp.csv\", \"a\")\n",
    "            fu = open(\"logu.csv\", \"a\")\n",
    "            fv = open(\"logv.csv\", \"a\")\n",
    "    \n",
    "            for j in 1:MY\n",
    "                for i in 1:MX-1\n",
    "                    write(fp, p[i, j])\n",
    "                    write(fu, u[i, j])\n",
    "                    write(fv, v[i, j])\n",
    "                    write(fp, \",\")\n",
    "                    write(fu, \",\")\n",
    "                    write(fv, \",\")\n",
    "                end\n",
    "        \n",
    "                write(fp, p[MX, j])\n",
    "                write(fu, u[MX, j])\n",
    "                write(fv, v[MX, j])\n",
    "                write(fp, \"\\n\")\n",
    "                write(fu, \"\\n\")\n",
    "                write(fv, \"\\n\")\n",
    "            end\n",
    "            \n",
    "        end\n",
    "    end\n",
    "end"
   ]
  },
  {
   "cell_type": "code",
   "execution_count": 21,
   "metadata": {},
   "outputs": [
    {
     "ename": "LoadError",
     "evalue": "\u001b[91mInterruptException:\u001b[39m",
     "output_type": "error",
     "traceback": [
      "\u001b[91mInterruptException:\u001b[39m",
      "",
      "Stacktrace:",
      " [1] \u001b[1mPoissonEquation\u001b[22m\u001b[22m\u001b[1m(\u001b[22m\u001b[22m::Array{Float64,2}, ::Array{Float64,2}, ::Array{Float64,2}, ::Float64, ::Float64, ::Float64\u001b[1m)\u001b[22m\u001b[22m at \u001b[1m./In[5]:21\u001b[22m\u001b[22m",
      " [2] \u001b[1mmain\u001b[22m\u001b[22m\u001b[1m(\u001b[22m\u001b[22m\u001b[1m)\u001b[22m\u001b[22m at \u001b[1m./In[20]:55\u001b[22m\u001b[22m",
      " [3] \u001b[1minclude_string\u001b[22m\u001b[22m\u001b[1m(\u001b[22m\u001b[22m::String, ::String\u001b[1m)\u001b[22m\u001b[22m at \u001b[1m./loading.jl:522\u001b[22m\u001b[22m"
     ]
    }
   ],
   "source": [
    "@time main()"
   ]
  },
  {
   "cell_type": "code",
   "execution_count": null,
   "metadata": {},
   "outputs": [],
   "source": []
  }
 ],
 "metadata": {
  "kernelspec": {
   "display_name": "Julia 0.6.2",
   "language": "julia",
   "name": "julia-0.6"
  },
  "language_info": {
   "file_extension": ".jl",
   "mimetype": "application/julia",
   "name": "julia",
   "version": "0.6.2"
  }
 },
 "nbformat": 4,
 "nbformat_minor": 2
}

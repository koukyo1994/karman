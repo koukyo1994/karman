{
 "cells": [
  {
   "cell_type": "code",
   "execution_count": 1,
   "metadata": {},
   "outputs": [],
   "source": [
    "using Plots"
   ]
  },
  {
   "cell_type": "code",
   "execution_count": 2,
   "metadata": {},
   "outputs": [
    {
     "data": {
      "text/plain": [
       "70"
      ]
     },
     "execution_count": 2,
     "metadata": {},
     "output_type": "execute_result"
    }
   ],
   "source": [
    "MX = 401\n",
    "I1 = 95\n",
    "I2 = 105\n",
    "MY = 201\n",
    "J1 = 95\n",
    "J2 = 105\n",
    "MAXITP = 10000\n",
    "OMEGAP = 1.0 \n",
    "ERRORP = 1e-4\n",
    "Re = 70"
   ]
  },
  {
   "cell_type": "code",
   "execution_count": 3,
   "metadata": {},
   "outputs": [
    {
     "data": {
      "text/plain": [
       "BoundaryConditionforP (generic function with 1 method)"
      ]
     },
     "execution_count": 3,
     "metadata": {},
     "output_type": "execute_result"
    }
   ],
   "source": [
    "function BoundaryConditionforP(p::Array{Float64, 2})\n",
    "    for i in 1:MY\n",
    "        p[1][i] = 0.0\n",
    "        p[MX][i] = 0.0\n",
    "    end\n",
    "    \n",
    "    for i in 1:MX\n",
    "        p[i][1] = 0.0\n",
    "        p[i][MY] = 0.0\n",
    "    end\n",
    "    \n",
    "    p[I1][J1] = p[I1-1][J1-1]\n",
    "    p[I1][J2] = p[I1-1][J2+1]\n",
    "    p[I2][J1] = p[I2+1][J1-1]\n",
    "    p[I2][J2] = p[I2+1][J2+1]\n",
    "    \n",
    "    for j in J1+1:J2-1\n",
    "        p[I1][j] = p[I1-1][j]\n",
    "        p[I2][j] = p[I2+1][j]\n",
    "    end\n",
    "    \n",
    "    for i in I1+1:I2-1\n",
    "        p[i][J1] = p[i][J1-1]\n",
    "        p[i][J2] = p[i][J2+1]\n",
    "    end\n",
    "end"
   ]
  },
  {
   "cell_type": "code",
   "execution_count": 4,
   "metadata": {},
   "outputs": [
    {
     "data": {
      "text/plain": [
       "BoundaryConditionforV (generic function with 1 method)"
      ]
     },
     "execution_count": 4,
     "metadata": {},
     "output_type": "execute_result"
    }
   ],
   "source": [
    "function BoundaryConditionforV(u::Array{Float64, 2}, v::Array{Float64, 2})\n",
    "    for j in 1:MY\n",
    "        u[1][j] = 1.0\n",
    "        v[1][j] = 0.0\n",
    "        u[MX][j] = 2.0 * u[MX-1][j] - u[MX-2][j]\n",
    "        v[MX][j] = 2.0 * v[MX-1][j] - v[MX-2][j]\n",
    "    end\n",
    "    \n",
    "    for i in 1:MX\n",
    "        u[i][1] = 2.0 * u[i][2] - u[i][3]\n",
    "        v[i][1] = 2.0 * v[i][2] - v[i][3]\n",
    "        u[i][MY] = 2.0 * u[i][MY-1] - u[i][MY-2]\n",
    "        v[i][MY] = 2.0 * v[i][MY-1] - v[i][MY-2]\n",
    "    end\n",
    "    \n",
    "    for i in I1:I2\n",
    "        for j in J1:J2\n",
    "            u[i][j] = 0.0\n",
    "            v[i][j] = 0.0\n",
    "        end\n",
    "    end\n",
    "end"
   ]
  },
  {
   "cell_type": "code",
   "execution_count": 5,
   "metadata": {},
   "outputs": [
    {
     "data": {
      "text/plain": [
       "PoissonEquation (generic function with 1 method)"
      ]
     },
     "execution_count": 5,
     "metadata": {},
     "output_type": "execute_result"
    }
   ],
   "source": [
    "function PoissonEquation(u::Array{Float64, 2}, v::Array{Float64, 2}, p::Array{Float64, 2},\n",
    "                         dx::Float64, dy::Float64, dt::Float64)\n",
    "    rhs = zeros(MX, MY)\n",
    "    \n",
    "    for i in 2:MX-1\n",
    "        for j in 2:MY-1\n",
    "            if I1 < i < I2 && J1 < j < J2 \n",
    "            else\n",
    "                ux = (u[i+1][j] - u[i-1][j]) / (2.0*dx)\n",
    "                uy = (u[i][j+1] - u[i][j-1]) / (2.0*dy)\n",
    "                vx = (v[i+1][j] - v[i-1][j]) / (2.0*dx)\n",
    "                vy = (v[i][j+1] - v[i][j-1]) / (2.0*dy)\n",
    "                rhs[i][j] = -(ux + vy) / dt - (ux^2 + 2.0 * uy * vx + vy^2)\n",
    "            end\n",
    "        end\n",
    "    end\n",
    "    \n",
    "    for iteration in 1:MAXITP\n",
    "        res = 0.0\n",
    "        for i in 2:MX-1\n",
    "            for j in 2:MY-1\n",
    "                if I1 < i < I2 && J1 < j < J2\n",
    "                else\n",
    "                    dp = (p[i+1][j] + p[i-1][j]) / dx^2 + (p[i][j+1] + p[i][j-1]) / dy^2 -rhs[i][j]\n",
    "                    dp = dp / (2.0/dx^2 + 2.0/dy^2) - p[i][j]\n",
    "                    res += dp^2\n",
    "                    p[i][j] += OMEGAP * dp\n",
    "                end\n",
    "            end\n",
    "        end\n",
    "        BoundaryConditionforP(p)\n",
    "        res = sqrt(res / (MX * MY))\n",
    "        if res < ERRORP\n",
    "            resp = res\n",
    "            itrp = iteration\n",
    "            break\n",
    "        end\n",
    "    end\n",
    "end"
   ]
  },
  {
   "cell_type": "code",
   "execution_count": null,
   "metadata": {},
   "outputs": [],
   "source": [
    "function VelocityEquation(p::Array{Float64, 2}, u::Array{Float64, 2}, v::Array{Float64, 2},\n",
    "                          dx::Float64, dy::Float64, dt::Float64)\n",
    "    urhs = zeros(MX, MY)\n",
    "    vrhs = zeros(MX, MY)\n",
    "    for i in 2:MX-1\n",
    "        for j in 2:MY-1\n",
    "            if I1 < i < I2 && J1 < j < J2\n",
    "            elseif (i == I1 || i== I2) && "
   ]
  }
 ],
 "metadata": {
  "kernelspec": {
   "display_name": "Julia 0.6.2",
   "language": "julia",
   "name": "julia-0.6"
  },
  "language_info": {
   "file_extension": ".jl",
   "mimetype": "application/julia",
   "name": "julia",
   "version": "0.6.2"
  }
 },
 "nbformat": 4,
 "nbformat_minor": 2
}
